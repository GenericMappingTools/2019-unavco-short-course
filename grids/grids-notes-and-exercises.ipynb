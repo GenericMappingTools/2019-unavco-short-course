{
 "cells": [
  {
   "cell_type": "code",
   "execution_count": 17,
   "metadata": {},
   "outputs": [
    {
     "name": "stderr",
     "output_type": "stream",
     "text": [
      "\n",
      "(okular:15220): Gtk-WARNING **: 17:35:31.232: Unable to locate theme engine in module_path: \"adwaita\",\n",
      "\n",
      "(okular:15220): Gtk-WARNING **: 17:35:31.232: Unable to locate theme engine in module_path: \"adwaita\",\n"
     ]
    }
   ],
   "source": [
    "%%bash\n",
    "gmt begin contour pdf\n",
    "    gmt basemap -JW10i -Rg -Baf\n",
    "    gmt grdcontour @earth_relief_60m \n",
    "gmt end show"
   ]
  },
  {
   "cell_type": "code",
   "execution_count": 16,
   "metadata": {},
   "outputs": [
    {
     "name": "stderr",
     "output_type": "stream",
     "text": [
      "\n",
      "(okular:15099): Gtk-WARNING **: 17:35:26.768: Unable to locate theme engine in module_path: \"adwaita\",\n",
      "\n",
      "(okular:15099): Gtk-WARNING **: 17:35:26.768: Unable to locate theme engine in module_path: \"adwaita\",\n"
     ]
    }
   ],
   "source": [
    "%%bash\n",
    "gmt begin contour pdf\n",
    "    gmt basemap -JW10i -Rg -Baf\n",
    "    gmt grdcontour @earth_relief_60m -C500\n",
    "gmt end show"
   ]
  },
  {
   "cell_type": "code",
   "execution_count": 19,
   "metadata": {},
   "outputs": [
    {
     "name": "stderr",
     "output_type": "stream",
     "text": [
      "\n",
      "(okular:15471): Gtk-WARNING **: 17:36:24.078: Unable to locate theme engine in module_path: \"adwaita\",\n",
      "\n",
      "(okular:15471): Gtk-WARNING **: 17:36:24.078: Unable to locate theme engine in module_path: \"adwaita\",\n"
     ]
    }
   ],
   "source": [
    "%%bash\n",
    "gmt begin contour pdf\n",
    "    gmt basemap -JW10i -Rg -Baf\n",
    "    gmt grdcontour @earth_relief_60m -C500 -A5000\n",
    "gmt end show"
   ]
  },
  {
   "cell_type": "code",
   "execution_count": null,
   "metadata": {},
   "outputs": [],
   "source": [
    "%%bash\n",
    "gmt begin contour pdf\n",
    "    gmt basemap -JW10i -Rg -Baf\n",
    "    gmt grdcontour @earth_relief_60m -C500 -A5000+f5p\n",
    "gmt end show"
   ]
  }
 ],
 "metadata": {
  "kernelspec": {
   "display_name": "Python 3",
   "language": "python",
   "name": "python3"
  },
  "language_info": {
   "codemirror_mode": {
    "name": "ipython",
    "version": 3
   },
   "file_extension": ".py",
   "mimetype": "text/x-python",
   "name": "python",
   "nbconvert_exporter": "python",
   "pygments_lexer": "ipython3",
   "version": "3.7.3"
  }
 },
 "nbformat": 4,
 "nbformat_minor": 4
}
