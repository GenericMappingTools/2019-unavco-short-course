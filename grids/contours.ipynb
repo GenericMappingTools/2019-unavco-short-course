{
 "cells": [
  {
   "cell_type": "code",
   "execution_count": 2,
   "metadata": {},
   "outputs": [
    {
     "name": "stdout",
     "output_type": "stream",
     "text": [
      "/home/leo/.gmt/earth_relief_60m.grd: Title: Earth Relief at 60 arc minute\n",
      "/home/leo/.gmt/earth_relief_60m.grd: Command: grdfilter earth_relief_1m.grd -Fg111 -D4 -I60m -Gearth_relief_60m.grd=ns\n",
      "/home/leo/.gmt/earth_relief_60m.grd: Remark: Obtained by Gaussian spherical filtering (111 km fullwidth) from earth_relief_1m.grd\n",
      "/home/leo/.gmt/earth_relief_60m.grd: Gridline node registration used [Geographic grid]\n",
      "/home/leo/.gmt/earth_relief_60m.grd: Grid file format: ns = GMT netCDF format (16-bit integer), CF-1.7\n",
      "/home/leo/.gmt/earth_relief_60m.grd: x_min: -180 x_max: 180 x_inc: 1 name: longitude n_columns: 361\n",
      "/home/leo/.gmt/earth_relief_60m.grd: y_min: -90 y_max: 90 y_inc: 1 name: latitude n_rows: 181\n",
      "/home/leo/.gmt/earth_relief_60m.grd: z_min: -8425 z_max: 5551 name: z\n",
      "/home/leo/.gmt/earth_relief_60m.grd: scale_factor: 1 add_offset: 0\n",
      "/home/leo/.gmt/earth_relief_60m.grd: format: netCDF-4 chunk_size: 181,181 shuffle: on deflation_level: 3\n"
     ]
    }
   ],
   "source": [
    "%%bash \n",
    "gmt grdinfo @earth_relief_60m"
   ]
  },
  {
   "cell_type": "code",
   "execution_count": 46,
   "metadata": {},
   "outputs": [],
   "source": [
    "%%bash\n",
    "gmt begin\n",
    "    gmt basemap -Rg -JW10i -B\n",
    "    gmt grdcontour @earth_relief_60m\n",
    "gmt end show"
   ]
  },
  {
   "cell_type": "code",
   "execution_count": 58,
   "metadata": {},
   "outputs": [
    {
     "name": "stdout",
     "output_type": "stream",
     "text": [
      "mexico_topo.nc: Title: Produced by grdcut\n",
      "mexico_topo.nc: Command: grdcut @earth_relief_10m -RMX -Gmexico_topo.nc\n",
      "mexico_topo.nc: Remark: Obtained by Gaussian spherical filtering (18 km fullwidth) from earth_relief_1m.grd\n",
      "mexico_topo.nc: Gridline node registration used [Geographic grid]\n",
      "mexico_topo.nc: Grid file format: nf = GMT netCDF format (32-bit float), CF-1.7\n",
      "mexico_topo.nc: x_min: 241.666666667 x_max: 273.333333333 x_inc: 0.166666666667 (10 min) name: longitude n_columns: 191\n",
      "mexico_topo.nc: y_min: 14.5 y_max: 32.6666666667 y_inc: 0.166666666667 (10 min) name: latitude n_rows: 110\n",
      "mexico_topo.nc: z_min: -6235 z_max: 3882 name: z\n",
      "mexico_topo.nc: scale_factor: 1 add_offset: 0\n",
      "mexico_topo.nc: format: netCDF-4 chunk_size: 191,110 shuffle: on deflation_level: 3\n"
     ]
    }
   ],
   "source": [
    "%%bash\n",
    "gmt grdcut @earth_relief_10m -RMX -Gmexico_topo.nc\n",
    "gmt grdinfo mexico_topo.nc"
   ]
  },
  {
   "cell_type": "code",
   "execution_count": 59,
   "metadata": {},
   "outputs": [],
   "source": [
    "%%bash\n",
    "gmt begin\n",
    "    gmt basemap -RMX -JM10i -B\n",
    "    gmt grdcontour mexico_topo.nc\n",
    "gmt end show"
   ]
  },
  {
   "cell_type": "code",
   "execution_count": 61,
   "metadata": {},
   "outputs": [],
   "source": [
    "%%bash\n",
    "gmt begin\n",
    "    gmt basemap -RMX -JM10i -B\n",
    "    gmt grdcontour mexico_topo.nc -C500\n",
    "gmt end show"
   ]
  },
  {
   "cell_type": "code",
   "execution_count": 62,
   "metadata": {},
   "outputs": [],
   "source": [
    "%%bash\n",
    "gmt begin\n",
    "    gmt basemap -RMX -JM10i -B\n",
    "    gmt grdcontour mexico_topo.nc -C500 -Wcthinnest,grey\n",
    "gmt end show"
   ]
  },
  {
   "cell_type": "code",
   "execution_count": 63,
   "metadata": {},
   "outputs": [],
   "source": [
    "%%bash\n",
    "gmt begin\n",
    "    gmt basemap -RMX -JM10i -B\n",
    "    gmt grdcontour mexico_topo.nc -C500 -Wcthinnest,grey -A2000\n",
    "gmt end show"
   ]
  },
  {
   "cell_type": "markdown",
   "metadata": {},
   "source": [
    "Challenge: Make font smaller"
   ]
  },
  {
   "cell_type": "code",
   "execution_count": 64,
   "metadata": {},
   "outputs": [],
   "source": [
    "%%bash\n",
    "gmt begin\n",
    "    gmt basemap -RMX -JM10i -B\n",
    "    gmt grdcontour mexico_topo.nc -C500 -Wcthinnest,grey -A2000+f6p\n",
    "gmt end show"
   ]
  },
  {
   "cell_type": "markdown",
   "metadata": {},
   "source": [
    "Challenge: Make contours blue"
   ]
  },
  {
   "cell_type": "code",
   "execution_count": 65,
   "metadata": {},
   "outputs": [],
   "source": [
    "%%bash\n",
    "gmt begin\n",
    "    gmt basemap -RMX -JM10i -B\n",
    "    gmt grdcontour mexico_topo.nc -C500 -Wcthinnest,lightblue -A2000+f6p -Walightblue\n",
    "gmt end show"
   ]
  },
  {
   "cell_type": "code",
   "execution_count": 68,
   "metadata": {},
   "outputs": [],
   "source": [
    "%%bash\n",
    "gmt begin\n",
    "    gmt basemap -RMX -JM10i -B\n",
    "    gmt grdcontour mexico_topo.nc -C500 -Wcthinnest,lightblue -A2000+f6p -Walightblue -L0/10000\n",
    "gmt end show"
   ]
  },
  {
   "cell_type": "markdown",
   "metadata": {},
   "source": [
    "Challenge: Plot negative contours in red and zero contour in black"
   ]
  },
  {
   "cell_type": "code",
   "execution_count": 69,
   "metadata": {},
   "outputs": [],
   "source": [
    "%%bash\n",
    "gmt begin\n",
    "    gmt basemap -RMX -JM10i -B\n",
    "    gmt grdcontour mexico_topo.nc -C500 -Wcthinnest,lightblue -A2000+f6p -Walightblue -L0/10000\n",
    "    gmt grdcontour mexico_topo.nc -C500 -Wcthinnest,lightred -A2000+f6p -Walightred -Ln\n",
    "    #gmt grdcontour @earth_relief_60m -A0,+f6p -Wablack \n",
    "    gmt grdcontour mexico_topo.nc -A2000+f6p -Wablack -L0/1\n",
    "gmt end show"
   ]
  },
  {
   "cell_type": "markdown",
   "metadata": {},
   "source": [
    "Challenge: Make a contour map of Antarctica using\n",
    "1. solid lines for positive\n",
    "2. dashed lines for negative\n"
   ]
  },
  {
   "cell_type": "code",
   "execution_count": 99,
   "metadata": {},
   "outputs": [
    {
     "name": "stdout",
     "output_type": "stream",
     "text": [
      "antarctica_topo.nc: Title: Produced by grdcut\n",
      "antarctica_topo.nc: Command: grdcut @earth_relief_05m -R0/360/-90/-60 -Gantarctica_topo.nc\n",
      "antarctica_topo.nc: Remark: Obtained by Gaussian spherical filtering (9 km fullwidth) from earth_relief_01m.grd\n",
      "antarctica_topo.nc: Gridline node registration used [Geographic grid]\n",
      "antarctica_topo.nc: Grid file format: nf = GMT netCDF format (32-bit float), CF-1.7\n",
      "antarctica_topo.nc: x_min: 0 x_max: 360 x_inc: 0.0833333333333 (5 min) name: longitude n_columns: 4321\n",
      "antarctica_topo.nc: y_min: -90 y_max: -60 y_inc: 0.0833333333333 (5 min) name: latitude n_rows: 361\n",
      "antarctica_topo.nc: z_min: -6807 z_max: 4089 name: z\n",
      "antarctica_topo.nc: scale_factor: 1 add_offset: 0\n",
      "antarctica_topo.nc: format: netCDF-4 chunk_size: 131,181 shuffle: on deflation_level: 3\n"
     ]
    }
   ],
   "source": [
    "%%bash\n",
    "gmt grdcut @earth_relief_05m -R0/360/-90/-60 -Gantarctica_topo.nc\n",
    "gmt grdinfo antarctica_topo.nc"
   ]
  },
  {
   "cell_type": "code",
   "execution_count": 97,
   "metadata": {},
   "outputs": [],
   "source": [
    "%%bash\n",
    "gmt begin antarctica png\n",
    "    gmt basemap -Rantarctica_topo.nc -JG0/-90/8i -Bf\n",
    "    gmt grdcontour antarctica_topo.nc -C500 -Wcthinnest,black,solid -A2000+f8p -Wablack -Lp\n",
    "    gmt grdcontour antarctica_topo.nc -C500 -Wcthinnest,lightblue,- -A2000+f8p -Walightblue,- -Ln\n",
    "    gmt grdcontour antarctica_topo.nc -A0,+f6p -Wathick,black \n",
    "gmt end show"
   ]
  },
  {
   "cell_type": "code",
   "execution_count": null,
   "metadata": {},
   "outputs": [],
   "source": []
  }
 ],
 "metadata": {
  "kernelspec": {
   "display_name": "Python 3",
   "language": "python",
   "name": "python3"
  },
  "language_info": {
   "codemirror_mode": {
    "name": "ipython",
    "version": 3
   },
   "file_extension": ".py",
   "mimetype": "text/x-python",
   "name": "python",
   "nbconvert_exporter": "python",
   "pygments_lexer": "ipython3",
   "version": "3.7.3"
  }
 },
 "nbformat": 4,
 "nbformat_minor": 4
}
