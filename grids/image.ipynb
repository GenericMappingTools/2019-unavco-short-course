{
 "cells": [
  {
   "cell_type": "markdown",
   "metadata": {},
   "source": [
    "Basics"
   ]
  },
  {
   "cell_type": "code",
   "execution_count": 1,
   "metadata": {},
   "outputs": [],
   "source": [
    "%%bash\n",
    "gmt begin\n",
    "    gmt basemap -Rg -JW10i -B\n",
    "    gmt grdimage @earth_relief_60m\n",
    "gmt end show"
   ]
  },
  {
   "cell_type": "markdown",
   "metadata": {},
   "source": [
    "Colorbar"
   ]
  },
  {
   "cell_type": "code",
   "execution_count": 9,
   "metadata": {},
   "outputs": [],
   "source": [
    "%%bash\n",
    "gmt begin\n",
    "    gmt basemap -Rg -JW10i -B\n",
    "    gmt grdimage @earth_relief_60m\n",
    "    gmt colorbar -DJBC\n",
    "gmt end show"
   ]
  },
  {
   "cell_type": "markdown",
   "metadata": {},
   "source": [
    "Set interval in colorbar"
   ]
  },
  {
   "cell_type": "code",
   "execution_count": 10,
   "metadata": {},
   "outputs": [],
   "source": [
    "%%bash\n",
    "gmt begin\n",
    "    gmt basemap -Rg -JW10i -B\n",
    "    gmt grdimage @earth_relief_60m\n",
    "    gmt colorbar -DJBC -B1000\n",
    "gmt end show"
   ]
  },
  {
   "cell_type": "markdown",
   "metadata": {},
   "source": [
    "Challenge: Change colorbar size"
   ]
  },
  {
   "cell_type": "code",
   "execution_count": 16,
   "metadata": {},
   "outputs": [],
   "source": [
    "%%bash\n",
    "gmt begin\n",
    "    gmt basemap -Rg -JW10i -B\n",
    "    gmt grdimage @earth_relief_60m\n",
    "    gmt colorbar -DJBC+w8i/0.1i -B1000\n",
    "gmt end show"
   ]
  },
  {
   "cell_type": "markdown",
   "metadata": {},
   "source": [
    "Challenge: Add \"meters\" to the colorbar"
   ]
  },
  {
   "cell_type": "code",
   "execution_count": 11,
   "metadata": {},
   "outputs": [],
   "source": [
    "%%bash\n",
    "gmt begin\n",
    "    gmt basemap -Rg -JW10i -B\n",
    "    gmt grdimage @earth_relief_60m\n",
    "    gmt colorbar -DJBC+w8i/0.1i -B1000 -By+lmeters\n",
    "gmt end show"
   ]
  },
  {
   "cell_type": "markdown",
   "metadata": {},
   "source": [
    "Change CPT"
   ]
  },
  {
   "cell_type": "code",
   "execution_count": 19,
   "metadata": {},
   "outputs": [],
   "source": [
    "%%bash\n",
    "gmt begin\n",
    "    gmt basemap -Rg -JW10i -B\n",
    "    gmt grdimage @earth_relief_60m -Cetopo1\n",
    "    gmt colorbar -DJBC+w8i/0.1i -B1000 -By+lmeters\n",
    "gmt end show"
   ]
  },
  {
   "cell_type": "markdown",
   "metadata": {},
   "source": [
    "Customize the CPT"
   ]
  },
  {
   "cell_type": "code",
   "execution_count": 39,
   "metadata": {},
   "outputs": [],
   "source": [
    "%%bash\n",
    "gmt begin\n",
    "    gmt basemap -Rg -JW10i -B\n",
    "    gmt makecpt -Cetopo1 -T-5000/5000\n",
    "    gmt grdimage @earth_relief_60m -C\n",
    "    gmt colorbar -DJBC+w8i/0.1i -B1000 -By+lmeters\n",
    "gmt end show"
   ]
  },
  {
   "cell_type": "markdown",
   "metadata": {},
   "source": [
    "The \"hinge\""
   ]
  },
  {
   "cell_type": "code",
   "execution_count": 40,
   "metadata": {},
   "outputs": [],
   "source": [
    "%%bash\n",
    "gmt begin\n",
    "    gmt basemap -Rg -JW10i -B\n",
    "    gmt makecpt -Cetopo1 -T-1000/12000\n",
    "    gmt grdimage @earth_relief_60m -C\n",
    "    gmt colorbar -DJBC+w8i/0.1i -B1000 -By+lmeters\n",
    "gmt end show"
   ]
  },
  {
   "cell_type": "markdown",
   "metadata": {},
   "source": [
    "Some don't have a hinge"
   ]
  },
  {
   "cell_type": "code",
   "execution_count": 41,
   "metadata": {},
   "outputs": [],
   "source": [
    "%%bash\n",
    "gmt begin\n",
    "    gmt basemap -Rg -JW10i -B\n",
    "    gmt makecpt -Cviridis -T-1000/12000\n",
    "    gmt grdimage @earth_relief_60m -C\n",
    "    gmt colorbar -DJBC+w8i/0.1i -B1000 -By+lmeters\n",
    "gmt end show"
   ]
  },
  {
   "cell_type": "markdown",
   "metadata": {},
   "source": [
    "Shading"
   ]
  },
  {
   "cell_type": "code",
   "execution_count": 42,
   "metadata": {},
   "outputs": [],
   "source": [
    "%%bash\n",
    "gmt begin\n",
    "    gmt basemap -Rg -JW10i -B\n",
    "    gmt grdimage @earth_relief_60m -Cetopo1 -I\n",
    "    gmt colorbar -DJBC+w8i/0.1i -B1000 -By+lmeters\n",
    "gmt end show"
   ]
  },
  {
   "cell_type": "markdown",
   "metadata": {},
   "source": [
    "Challenge: Make the light source come from the south"
   ]
  },
  {
   "cell_type": "code",
   "execution_count": 47,
   "metadata": {},
   "outputs": [],
   "source": [
    "%%bash\n",
    "gmt begin\n",
    "    gmt basemap -Rg -JW10i -B\n",
    "    gmt grdimage @earth_relief_60m -Cetopo1 -I+a180\n",
    "    gmt colorbar -DJBC+w8i/0.1i -B1000 -By+lmeters\n",
    "gmt end show"
   ]
  },
  {
   "cell_type": "markdown",
   "metadata": {},
   "source": [
    "Use 2 different CPTs.\n",
    "\n",
    "Can't do this:"
   ]
  },
  {
   "cell_type": "code",
   "execution_count": 49,
   "metadata": {},
   "outputs": [],
   "source": [
    "%%bash\n",
    "gmt begin\n",
    "    gmt basemap -Rg -JW10i -B\n",
    "    gmt makecpt -Cgray -T0/8000\n",
    "    gmt grdimage @earth_relief_60m -C\n",
    "    gmt colorbar -DJBC+w8i/0.1i -B1000 -By+lmeters\n",
    "gmt end show"
   ]
  },
  {
   "cell_type": "markdown",
   "metadata": {},
   "source": [
    "Clipping"
   ]
  },
  {
   "cell_type": "code",
   "execution_count": 53,
   "metadata": {},
   "outputs": [],
   "source": [
    "%%bash\n",
    "gmt begin\n",
    "    gmt basemap -Rg -JW10i -B\n",
    "    gmt makecpt -Cgray -T-8000/8000\n",
    "    gmt coast -Gc\n",
    "    gmt grdimage @earth_relief_60m -C -I\n",
    "    gmt coast -Q\n",
    "    gmt colorbar -DJBC+w8i/0.1i -B1000 -By+lmeters\n",
    "gmt end show"
   ]
  },
  {
   "cell_type": "markdown",
   "metadata": {},
   "source": [
    "Challenge: plot Antarctica with ocean in \"abyss\" and land in \"grays\""
   ]
  },
  {
   "cell_type": "code",
   "execution_count": 100,
   "metadata": {},
   "outputs": [],
   "source": [
    "%%bash\n",
    "gmt begin antactica_grid png\n",
    "    gmt basemap -Rantarctica_topo.nc -JG0/-90/8i -Bf\n",
    "    gmt makecpt -Cgray -T-6000/6000 \n",
    "    gmt coast -Gc\n",
    "    gmt grdimage antarctica_topo.nc -C -I\n",
    "    gmt coast -Q\n",
    "    gmt colorbar -DJCR+o0.2i/2i+w3i -B1000 -Bx+l\"topography [m]\" -G0/6000\n",
    "    \n",
    "    gmt makecpt -Cabyss -T-8000/0\n",
    "    gmt coast -Sc\n",
    "    gmt grdimage antarctica_topo.nc -C -I\n",
    "    gmt coast -Q\n",
    "    gmt colorbar -DJCR+o0.2i/-2i+w3i -B1000 -Bx+l\"bathymetry [m]\"\n",
    "    \n",
    "    gmt grdcontour antarctica_topo.nc -C500 -A1000+f8p -Wcthinnest,black -Wathin,black -Lp\n",
    "    \n",
    "    gmt coast -Wthick,black\n",
    "gmt end show"
   ]
  },
  {
   "cell_type": "code",
   "execution_count": null,
   "metadata": {},
   "outputs": [],
   "source": []
  }
 ],
 "metadata": {
  "kernelspec": {
   "display_name": "Python 3",
   "language": "python",
   "name": "python3"
  },
  "language_info": {
   "codemirror_mode": {
    "name": "ipython",
    "version": 3
   },
   "file_extension": ".py",
   "mimetype": "text/x-python",
   "name": "python",
   "nbconvert_exporter": "python",
   "pygments_lexer": "ipython3",
   "version": "3.7.3"
  }
 },
 "nbformat": 4,
 "nbformat_minor": 4
}
